{
 "cells": [
  {
   "cell_type": "code",
   "execution_count": null,
   "id": "9885c647",
   "metadata": {},
   "outputs": [],
   "source": [
    "import os\n",
    "import random\n",
    "import numpy as np\n",
    "from PIL import Image\n",
    "\n",
    "import torch\n",
    "\n",
    "from deeplabv3 import DeepLabV3, convert_trainid_mask\n",
    "from cityscapes import get_transforms\n",
    "\n",
    "DEVICE = 'cuda'\n",
    "torch.cuda.empty_cache()"
   ]
  },
  {
   "cell_type": "code",
   "execution_count": null,
   "id": "40a0e5e4",
   "metadata": {},
   "outputs": [],
   "source": [
    "model_weights_path = \"./saved/dlv3_os_16_e_30.pth\"\n",
    "output_stride = 16\n",
    "cfg = {\n",
    "    'train_crop_size': [1024, 1024],\n",
    "    'norm_mean': [0.485, 0.456, 0.406],\n",
    "    'norm_std': [0.229, 0.224, 0.225],\n",
    "    'backbone': \"resnet50\",\n",
    "    'num_classes': 20,\n",
    "    'output_stride': output_stride,\n",
    "    'model_weights_path': model_weights_path,\n",
    "}"
   ]
  },
  {
   "cell_type": "code",
   "execution_count": null,
   "id": "479edea0",
   "metadata": {},
   "outputs": [],
   "source": [
    "transform_train, transform_val_test = get_transforms(cfg[\"train_crop_size\"], cfg[\"norm_mean\"], cfg[\"norm_std\"])\n",
    "\n",
    "model = DeepLabV3(\n",
    "    backbone=cfg['backbone'],\n",
    "    num_classes=cfg['num_classes'],\n",
    "    output_stride=cfg['output_stride'],\n",
    ")\n",
    "model_state_dict = torch.load(cfg['model_weights_path'], map_location='cpu', weights_only=True)\n",
    "model.load_state_dict(model_state_dict)\n",
    "model.to(DEVICE)\n",
    "model.eval()"
   ]
  },
  {
   "cell_type": "code",
   "execution_count": null,
   "id": "6e1bf531",
   "metadata": {},
   "outputs": [],
   "source": [
    "def predict(image_path):\n",
    "    image = Image.open(image_path).convert('RGB')\n",
    "    img = transform_val_test(image).unsqueeze(0).to(DEVICE)\n",
    "\n",
    "    with torch.no_grad():\n",
    "        pred_logits = model(img)\n",
    "        pred_mask = torch.argmax(pred_logits, dim=1).squeeze().cpu().numpy().astype(np.uint8)\n",
    "        pred_mask_color = convert_trainid_mask(\n",
    "            pred_mask,\n",
    "            to=\"color\",\n",
    "            name_to_trainId_path='./cityscapes/name_to_trainId.json',\n",
    "            name_to_color_path='./cityscapes/name_to_color.json',\n",
    "            name_to_labelId_path='./cityscapes/name_to_labelId.json',\n",
    "        ).astype(np.uint8)\n",
    "    pred_mask_color = Image.fromarray(pred_mask_color).convert('RGB')\n",
    "    return image, pred_mask_color"
   ]
  },
  {
   "cell_type": "code",
   "execution_count": null,
   "id": "a2b77187",
   "metadata": {},
   "outputs": [],
   "source": [
    "file_list = []\n",
    "for city in os.listdir('./data/leftImg8bit/val/'):\n",
    "    img_dir = os.path.join('./data/leftImg8bit/val/', city)\n",
    "    for file_name in os.listdir(img_dir):\n",
    "        if file_name.endswith('_leftImg8bit.png'):\n",
    "            img_path = os.path.join(img_dir, file_name)\n",
    "            file_list.append(img_path)\n",
    "\n",
    "print(f\"Found {len(file_list)} images.\")\n",
    "random.seed(42)\n",
    "random.shuffle(file_list)"
   ]
  },
  {
   "cell_type": "code",
   "execution_count": null,
   "id": "8cdd7a33",
   "metadata": {},
   "outputs": [],
   "source": [
    "results = []\n",
    "for i, file_path in enumerate(file_list[0:50]):\n",
    "    print(f\"Processing {i + 1}/{len(file_list[0:50])}\", end='\\r')\n",
    "    image, pred_mask_color = predict(file_path)\n",
    "    blended = Image.blend(image, pred_mask_color, 0.3)\n",
    "    results.append(blended)"
   ]
  },
  {
   "cell_type": "code",
   "execution_count": null,
   "id": "6d8eb727",
   "metadata": {},
   "outputs": [],
   "source": [
    "results[0].save(\n",
    "    \"./outputs/predictions_os_16.gif\",\n",
    "    format=\"GIF\",\n",
    "    save_all=True,\n",
    "    append_images=results[1:50],\n",
    "    duration=5000,\n",
    "    loop=0,\n",
    ")"
   ]
  }
 ],
 "metadata": {
  "kernelspec": {
   "display_name": "Python 3",
   "language": "python",
   "name": "python3"
  },
  "language_info": {
   "codemirror_mode": {
    "name": "ipython",
    "version": 3
   },
   "file_extension": ".py",
   "mimetype": "text/x-python",
   "name": "python",
   "nbconvert_exporter": "python",
   "pygments_lexer": "ipython3",
   "version": "3.8.10"
  }
 },
 "nbformat": 4,
 "nbformat_minor": 5
}
